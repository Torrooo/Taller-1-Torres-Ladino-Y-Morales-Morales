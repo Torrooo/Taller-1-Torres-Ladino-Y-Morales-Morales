{
  "nbformat": 4,
  "nbformat_minor": 0,
  "metadata": {
    "colab": {
      "provenance": []
    },
    "kernelspec": {
      "name": "python3",
      "display_name": "Python 3"
    },
    "language_info": {
      "name": "python"
    }
  },
  "cells": [
    {
      "cell_type": "markdown",
      "source": [
        "- Taller 1 finanzas computacionales\n",
        "- Juan Manuel Torres Ladino\n",
        "- Santiago Morales Morales"
      ],
      "metadata": {
        "id": "WuNSKarSpWbx"
      }
    },
    {
      "cell_type": "code",
      "execution_count": 1,
      "metadata": {
        "colab": {
          "base_uri": "https://localhost:8080/"
        },
        "id": "aRaQXDlWIgDb",
        "outputId": "dca46f3c-acae-46e2-d2e5-460e86decc8b"
      },
      "outputs": [
        {
          "output_type": "stream",
          "name": "stdout",
          "text": [
            "\u001b[2K     \u001b[90m━━━━━━━━━━━━━━━━━━━━━━━━━━━━━━━━━━━━━━━\u001b[0m \u001b[32m59.2/59.2 KB\u001b[0m \u001b[31m640.1 kB/s\u001b[0m eta \u001b[36m0:00:00\u001b[0m\n",
            "\u001b[2K     \u001b[90m━━━━━━━━━━━━━━━━━━━━━━━━━━━━━━━━━━━━━━━\u001b[0m \u001b[32m129.4/129.4 KB\u001b[0m \u001b[31m4.7 MB/s\u001b[0m eta \u001b[36m0:00:00\u001b[0m\n",
            "\u001b[2K     \u001b[90m━━━━━━━━━━━━━━━━━━━━━━━━━━━━━━━━━━━━━━━\u001b[0m \u001b[32m111.0/111.0 KB\u001b[0m \u001b[31m4.3 MB/s\u001b[0m eta \u001b[36m0:00:00\u001b[0m\n",
            "\u001b[2K     \u001b[90m━━━━━━━━━━━━━━━━━━━━━━━━━━━━━━━━━━━━━━━\u001b[0m \u001b[32m112.2/112.2 KB\u001b[0m \u001b[31m2.9 MB/s\u001b[0m eta \u001b[36m0:00:00\u001b[0m\n",
            "\u001b[2K     \u001b[90m━━━━━━━━━━━━━━━━━━━━━━━━━━━━━━━━━━━━━━━━\u001b[0m \u001b[32m62.8/62.8 KB\u001b[0m \u001b[31m1.6 MB/s\u001b[0m eta \u001b[36m0:00:00\u001b[0m\n",
            "\u001b[2K     \u001b[90m━━━━━━━━━━━━━━━━━━━━━━━━━━━━━━━━━━━━━━━━\u001b[0m \u001b[32m4.2/4.2 MB\u001b[0m \u001b[31m13.9 MB/s\u001b[0m eta \u001b[36m0:00:00\u001b[0m\n",
            "\u001b[?25hLooking in indexes: https://pypi.org/simple, https://us-python.pkg.dev/colab-wheels/public/simple/\n",
            "Requirement already satisfied: pandas-datareader in /usr/local/lib/python3.8/dist-packages (0.9.0)\n",
            "Requirement already satisfied: requests>=2.19.0 in /usr/local/lib/python3.8/dist-packages (from pandas-datareader) (2.28.2)\n",
            "Requirement already satisfied: pandas>=0.23 in /usr/local/lib/python3.8/dist-packages (from pandas-datareader) (1.3.5)\n",
            "Requirement already satisfied: lxml in /usr/local/lib/python3.8/dist-packages (from pandas-datareader) (4.9.2)\n",
            "Requirement already satisfied: pytz>=2017.3 in /usr/local/lib/python3.8/dist-packages (from pandas>=0.23->pandas-datareader) (2022.7.1)\n",
            "Requirement already satisfied: numpy>=1.17.3 in /usr/local/lib/python3.8/dist-packages (from pandas>=0.23->pandas-datareader) (1.21.6)\n",
            "Requirement already satisfied: python-dateutil>=2.7.3 in /usr/local/lib/python3.8/dist-packages (from pandas>=0.23->pandas-datareader) (2.8.2)\n",
            "Requirement already satisfied: charset-normalizer<4,>=2 in /usr/local/lib/python3.8/dist-packages (from requests>=2.19.0->pandas-datareader) (2.1.1)\n",
            "Requirement already satisfied: idna<4,>=2.5 in /usr/local/lib/python3.8/dist-packages (from requests>=2.19.0->pandas-datareader) (2.10)\n",
            "Requirement already satisfied: urllib3<1.27,>=1.21.1 in /usr/local/lib/python3.8/dist-packages (from requests>=2.19.0->pandas-datareader) (1.24.3)\n",
            "Requirement already satisfied: certifi>=2017.4.17 in /usr/local/lib/python3.8/dist-packages (from requests>=2.19.0->pandas-datareader) (2022.12.7)\n",
            "Requirement already satisfied: six>=1.5 in /usr/local/lib/python3.8/dist-packages (from python-dateutil>=2.7.3->pandas>=0.23->pandas-datareader) (1.15.0)\n"
          ]
        }
      ],
      "source": [
        "import pandas as pd\n",
        "import numpy as np\n",
        "import warnings\n",
        "warnings.filterwarnings(\"ignore\")\n",
        "from scipy import stats\n",
        "from matplotlib import pyplot as plt\n",
        "!pip install --quiet yfinance \n",
        "import yfinance as yf\n",
        "yf.pdr_override()\n",
        "!pip install pandas-datareader\n",
        "import pandas_datareader.data as pdr\n",
        "from pandas_datareader import wb\n",
        "from datetime import datetime"
      ]
    },
    {
      "cell_type": "code",
      "source": [
        "start = pd.to_datetime(\"2021-1-1\")\n",
        "end = pd.to_datetime(\"2022-12-31\")\n"
      ],
      "metadata": {
        "id": "BUIe16zkQzUW"
      },
      "execution_count": 2,
      "outputs": []
    },
    {
      "cell_type": "markdown",
      "source": [
        "1. Escoja dos acciones de su preferencia en el mercado estadounidense. Para estas dos\n",
        "acciones descargue las series de precios diarios para el periodo Ene-21 a Dic-2022 usando\n",
        "pandas datareader. Con esta información:"
      ],
      "metadata": {
        "id": "surMSQ8NRoKn"
      }
    },
    {
      "cell_type": "markdown",
      "source": [
        "a. Calcule los retornos logarítmicos diarios, mensuales y anualizados. Presente los\n",
        "resultados en una tabla."
      ],
      "metadata": {
        "id": "r08ruqrLRshE"
      }
    },
    {
      "cell_type": "code",
      "source": [
        "precios = pdr.DataReader(['RACE', 'UL'], start, end )['Adj Close'].dropna()\n",
        "retornos = np.log(precios/precios.shift(1)).dropna()\n",
        "retornos #RETORNOS DIARIOS"
      ],
      "metadata": {
        "colab": {
          "base_uri": "https://localhost:8080/",
          "height": 472
        },
        "id": "C3p-Du8CRpba",
        "outputId": "a9eec74d-ca62-4170-ecf5-04ada6391d8c"
      },
      "execution_count": 3,
      "outputs": [
        {
          "output_type": "stream",
          "name": "stdout",
          "text": [
            "[*********************100%***********************]  2 of 2 completed\n"
          ]
        },
        {
          "output_type": "execute_result",
          "data": {
            "text/plain": [
              "                RACE        UL\n",
              "Date                          \n",
              "2021-01-05 -0.004105  0.000496\n",
              "2021-01-06 -0.019338  0.001485\n",
              "2021-01-07  0.001577 -0.013780\n",
              "2021-01-08 -0.018770  0.011799\n",
              "2021-01-11 -0.000046 -0.016827\n",
              "...              ...       ...\n",
              "2022-12-23 -0.007319  0.004120\n",
              "2022-12-27  0.004681  0.000783\n",
              "2022-12-28 -0.008289 -0.012997\n",
              "2022-12-29  0.029709  0.002969\n",
              "2022-12-30 -0.011003 -0.004953\n",
              "\n",
              "[502 rows x 2 columns]"
            ],
            "text/html": [
              "\n",
              "  <div id=\"df-77089617-9b4c-4de3-8f6a-331c3bcfcbd1\">\n",
              "    <div class=\"colab-df-container\">\n",
              "      <div>\n",
              "<style scoped>\n",
              "    .dataframe tbody tr th:only-of-type {\n",
              "        vertical-align: middle;\n",
              "    }\n",
              "\n",
              "    .dataframe tbody tr th {\n",
              "        vertical-align: top;\n",
              "    }\n",
              "\n",
              "    .dataframe thead th {\n",
              "        text-align: right;\n",
              "    }\n",
              "</style>\n",
              "<table border=\"1\" class=\"dataframe\">\n",
              "  <thead>\n",
              "    <tr style=\"text-align: right;\">\n",
              "      <th></th>\n",
              "      <th>RACE</th>\n",
              "      <th>UL</th>\n",
              "    </tr>\n",
              "    <tr>\n",
              "      <th>Date</th>\n",
              "      <th></th>\n",
              "      <th></th>\n",
              "    </tr>\n",
              "  </thead>\n",
              "  <tbody>\n",
              "    <tr>\n",
              "      <th>2021-01-05</th>\n",
              "      <td>-0.004105</td>\n",
              "      <td>0.000496</td>\n",
              "    </tr>\n",
              "    <tr>\n",
              "      <th>2021-01-06</th>\n",
              "      <td>-0.019338</td>\n",
              "      <td>0.001485</td>\n",
              "    </tr>\n",
              "    <tr>\n",
              "      <th>2021-01-07</th>\n",
              "      <td>0.001577</td>\n",
              "      <td>-0.013780</td>\n",
              "    </tr>\n",
              "    <tr>\n",
              "      <th>2021-01-08</th>\n",
              "      <td>-0.018770</td>\n",
              "      <td>0.011799</td>\n",
              "    </tr>\n",
              "    <tr>\n",
              "      <th>2021-01-11</th>\n",
              "      <td>-0.000046</td>\n",
              "      <td>-0.016827</td>\n",
              "    </tr>\n",
              "    <tr>\n",
              "      <th>...</th>\n",
              "      <td>...</td>\n",
              "      <td>...</td>\n",
              "    </tr>\n",
              "    <tr>\n",
              "      <th>2022-12-23</th>\n",
              "      <td>-0.007319</td>\n",
              "      <td>0.004120</td>\n",
              "    </tr>\n",
              "    <tr>\n",
              "      <th>2022-12-27</th>\n",
              "      <td>0.004681</td>\n",
              "      <td>0.000783</td>\n",
              "    </tr>\n",
              "    <tr>\n",
              "      <th>2022-12-28</th>\n",
              "      <td>-0.008289</td>\n",
              "      <td>-0.012997</td>\n",
              "    </tr>\n",
              "    <tr>\n",
              "      <th>2022-12-29</th>\n",
              "      <td>0.029709</td>\n",
              "      <td>0.002969</td>\n",
              "    </tr>\n",
              "    <tr>\n",
              "      <th>2022-12-30</th>\n",
              "      <td>-0.011003</td>\n",
              "      <td>-0.004953</td>\n",
              "    </tr>\n",
              "  </tbody>\n",
              "</table>\n",
              "<p>502 rows × 2 columns</p>\n",
              "</div>\n",
              "      <button class=\"colab-df-convert\" onclick=\"convertToInteractive('df-77089617-9b4c-4de3-8f6a-331c3bcfcbd1')\"\n",
              "              title=\"Convert this dataframe to an interactive table.\"\n",
              "              style=\"display:none;\">\n",
              "        \n",
              "  <svg xmlns=\"http://www.w3.org/2000/svg\" height=\"24px\"viewBox=\"0 0 24 24\"\n",
              "       width=\"24px\">\n",
              "    <path d=\"M0 0h24v24H0V0z\" fill=\"none\"/>\n",
              "    <path d=\"M18.56 5.44l.94 2.06.94-2.06 2.06-.94-2.06-.94-.94-2.06-.94 2.06-2.06.94zm-11 1L8.5 8.5l.94-2.06 2.06-.94-2.06-.94L8.5 2.5l-.94 2.06-2.06.94zm10 10l.94 2.06.94-2.06 2.06-.94-2.06-.94-.94-2.06-.94 2.06-2.06.94z\"/><path d=\"M17.41 7.96l-1.37-1.37c-.4-.4-.92-.59-1.43-.59-.52 0-1.04.2-1.43.59L10.3 9.45l-7.72 7.72c-.78.78-.78 2.05 0 2.83L4 21.41c.39.39.9.59 1.41.59.51 0 1.02-.2 1.41-.59l7.78-7.78 2.81-2.81c.8-.78.8-2.07 0-2.86zM5.41 20L4 18.59l7.72-7.72 1.47 1.35L5.41 20z\"/>\n",
              "  </svg>\n",
              "      </button>\n",
              "      \n",
              "  <style>\n",
              "    .colab-df-container {\n",
              "      display:flex;\n",
              "      flex-wrap:wrap;\n",
              "      gap: 12px;\n",
              "    }\n",
              "\n",
              "    .colab-df-convert {\n",
              "      background-color: #E8F0FE;\n",
              "      border: none;\n",
              "      border-radius: 50%;\n",
              "      cursor: pointer;\n",
              "      display: none;\n",
              "      fill: #1967D2;\n",
              "      height: 32px;\n",
              "      padding: 0 0 0 0;\n",
              "      width: 32px;\n",
              "    }\n",
              "\n",
              "    .colab-df-convert:hover {\n",
              "      background-color: #E2EBFA;\n",
              "      box-shadow: 0px 1px 2px rgba(60, 64, 67, 0.3), 0px 1px 3px 1px rgba(60, 64, 67, 0.15);\n",
              "      fill: #174EA6;\n",
              "    }\n",
              "\n",
              "    [theme=dark] .colab-df-convert {\n",
              "      background-color: #3B4455;\n",
              "      fill: #D2E3FC;\n",
              "    }\n",
              "\n",
              "    [theme=dark] .colab-df-convert:hover {\n",
              "      background-color: #434B5C;\n",
              "      box-shadow: 0px 1px 3px 1px rgba(0, 0, 0, 0.15);\n",
              "      filter: drop-shadow(0px 1px 2px rgba(0, 0, 0, 0.3));\n",
              "      fill: #FFFFFF;\n",
              "    }\n",
              "  </style>\n",
              "\n",
              "      <script>\n",
              "        const buttonEl =\n",
              "          document.querySelector('#df-77089617-9b4c-4de3-8f6a-331c3bcfcbd1 button.colab-df-convert');\n",
              "        buttonEl.style.display =\n",
              "          google.colab.kernel.accessAllowed ? 'block' : 'none';\n",
              "\n",
              "        async function convertToInteractive(key) {\n",
              "          const element = document.querySelector('#df-77089617-9b4c-4de3-8f6a-331c3bcfcbd1');\n",
              "          const dataTable =\n",
              "            await google.colab.kernel.invokeFunction('convertToInteractive',\n",
              "                                                     [key], {});\n",
              "          if (!dataTable) return;\n",
              "\n",
              "          const docLinkHtml = 'Like what you see? Visit the ' +\n",
              "            '<a target=\"_blank\" href=https://colab.research.google.com/notebooks/data_table.ipynb>data table notebook</a>'\n",
              "            + ' to learn more about interactive tables.';\n",
              "          element.innerHTML = '';\n",
              "          dataTable['output_type'] = 'display_data';\n",
              "          await google.colab.output.renderOutput(dataTable, element);\n",
              "          const docLink = document.createElement('div');\n",
              "          docLink.innerHTML = docLinkHtml;\n",
              "          element.appendChild(docLink);\n",
              "        }\n",
              "      </script>\n",
              "    </div>\n",
              "  </div>\n",
              "  "
            ]
          },
          "metadata": {},
          "execution_count": 3
        }
      ]
    },
    {
      "cell_type": "code",
      "source": [
        "retornos*np.sqrt(21)\n",
        "#RETORNOS MENSUALES"
      ],
      "metadata": {
        "colab": {
          "base_uri": "https://localhost:8080/",
          "height": 455
        },
        "id": "g0wtPk3fVIgg",
        "outputId": "44abeb5f-3505-43c2-f30f-e8c50a2469de"
      },
      "execution_count": 4,
      "outputs": [
        {
          "output_type": "execute_result",
          "data": {
            "text/plain": [
              "                RACE        UL\n",
              "Date                          \n",
              "2021-01-05 -0.018812  0.002271\n",
              "2021-01-06 -0.088619  0.006805\n",
              "2021-01-07  0.007228 -0.063146\n",
              "2021-01-08 -0.086017  0.054070\n",
              "2021-01-11 -0.000210 -0.077110\n",
              "...              ...       ...\n",
              "2022-12-23 -0.033539  0.018882\n",
              "2022-12-27  0.021450  0.003588\n",
              "2022-12-28 -0.037985 -0.059562\n",
              "2022-12-29  0.136143  0.013605\n",
              "2022-12-30 -0.050420 -0.022697\n",
              "\n",
              "[502 rows x 2 columns]"
            ],
            "text/html": [
              "\n",
              "  <div id=\"df-a882b8c1-d92c-412d-84c8-d9d0001d4bb7\">\n",
              "    <div class=\"colab-df-container\">\n",
              "      <div>\n",
              "<style scoped>\n",
              "    .dataframe tbody tr th:only-of-type {\n",
              "        vertical-align: middle;\n",
              "    }\n",
              "\n",
              "    .dataframe tbody tr th {\n",
              "        vertical-align: top;\n",
              "    }\n",
              "\n",
              "    .dataframe thead th {\n",
              "        text-align: right;\n",
              "    }\n",
              "</style>\n",
              "<table border=\"1\" class=\"dataframe\">\n",
              "  <thead>\n",
              "    <tr style=\"text-align: right;\">\n",
              "      <th></th>\n",
              "      <th>RACE</th>\n",
              "      <th>UL</th>\n",
              "    </tr>\n",
              "    <tr>\n",
              "      <th>Date</th>\n",
              "      <th></th>\n",
              "      <th></th>\n",
              "    </tr>\n",
              "  </thead>\n",
              "  <tbody>\n",
              "    <tr>\n",
              "      <th>2021-01-05</th>\n",
              "      <td>-0.018812</td>\n",
              "      <td>0.002271</td>\n",
              "    </tr>\n",
              "    <tr>\n",
              "      <th>2021-01-06</th>\n",
              "      <td>-0.088619</td>\n",
              "      <td>0.006805</td>\n",
              "    </tr>\n",
              "    <tr>\n",
              "      <th>2021-01-07</th>\n",
              "      <td>0.007228</td>\n",
              "      <td>-0.063146</td>\n",
              "    </tr>\n",
              "    <tr>\n",
              "      <th>2021-01-08</th>\n",
              "      <td>-0.086017</td>\n",
              "      <td>0.054070</td>\n",
              "    </tr>\n",
              "    <tr>\n",
              "      <th>2021-01-11</th>\n",
              "      <td>-0.000210</td>\n",
              "      <td>-0.077110</td>\n",
              "    </tr>\n",
              "    <tr>\n",
              "      <th>...</th>\n",
              "      <td>...</td>\n",
              "      <td>...</td>\n",
              "    </tr>\n",
              "    <tr>\n",
              "      <th>2022-12-23</th>\n",
              "      <td>-0.033539</td>\n",
              "      <td>0.018882</td>\n",
              "    </tr>\n",
              "    <tr>\n",
              "      <th>2022-12-27</th>\n",
              "      <td>0.021450</td>\n",
              "      <td>0.003588</td>\n",
              "    </tr>\n",
              "    <tr>\n",
              "      <th>2022-12-28</th>\n",
              "      <td>-0.037985</td>\n",
              "      <td>-0.059562</td>\n",
              "    </tr>\n",
              "    <tr>\n",
              "      <th>2022-12-29</th>\n",
              "      <td>0.136143</td>\n",
              "      <td>0.013605</td>\n",
              "    </tr>\n",
              "    <tr>\n",
              "      <th>2022-12-30</th>\n",
              "      <td>-0.050420</td>\n",
              "      <td>-0.022697</td>\n",
              "    </tr>\n",
              "  </tbody>\n",
              "</table>\n",
              "<p>502 rows × 2 columns</p>\n",
              "</div>\n",
              "      <button class=\"colab-df-convert\" onclick=\"convertToInteractive('df-a882b8c1-d92c-412d-84c8-d9d0001d4bb7')\"\n",
              "              title=\"Convert this dataframe to an interactive table.\"\n",
              "              style=\"display:none;\">\n",
              "        \n",
              "  <svg xmlns=\"http://www.w3.org/2000/svg\" height=\"24px\"viewBox=\"0 0 24 24\"\n",
              "       width=\"24px\">\n",
              "    <path d=\"M0 0h24v24H0V0z\" fill=\"none\"/>\n",
              "    <path d=\"M18.56 5.44l.94 2.06.94-2.06 2.06-.94-2.06-.94-.94-2.06-.94 2.06-2.06.94zm-11 1L8.5 8.5l.94-2.06 2.06-.94-2.06-.94L8.5 2.5l-.94 2.06-2.06.94zm10 10l.94 2.06.94-2.06 2.06-.94-2.06-.94-.94-2.06-.94 2.06-2.06.94z\"/><path d=\"M17.41 7.96l-1.37-1.37c-.4-.4-.92-.59-1.43-.59-.52 0-1.04.2-1.43.59L10.3 9.45l-7.72 7.72c-.78.78-.78 2.05 0 2.83L4 21.41c.39.39.9.59 1.41.59.51 0 1.02-.2 1.41-.59l7.78-7.78 2.81-2.81c.8-.78.8-2.07 0-2.86zM5.41 20L4 18.59l7.72-7.72 1.47 1.35L5.41 20z\"/>\n",
              "  </svg>\n",
              "      </button>\n",
              "      \n",
              "  <style>\n",
              "    .colab-df-container {\n",
              "      display:flex;\n",
              "      flex-wrap:wrap;\n",
              "      gap: 12px;\n",
              "    }\n",
              "\n",
              "    .colab-df-convert {\n",
              "      background-color: #E8F0FE;\n",
              "      border: none;\n",
              "      border-radius: 50%;\n",
              "      cursor: pointer;\n",
              "      display: none;\n",
              "      fill: #1967D2;\n",
              "      height: 32px;\n",
              "      padding: 0 0 0 0;\n",
              "      width: 32px;\n",
              "    }\n",
              "\n",
              "    .colab-df-convert:hover {\n",
              "      background-color: #E2EBFA;\n",
              "      box-shadow: 0px 1px 2px rgba(60, 64, 67, 0.3), 0px 1px 3px 1px rgba(60, 64, 67, 0.15);\n",
              "      fill: #174EA6;\n",
              "    }\n",
              "\n",
              "    [theme=dark] .colab-df-convert {\n",
              "      background-color: #3B4455;\n",
              "      fill: #D2E3FC;\n",
              "    }\n",
              "\n",
              "    [theme=dark] .colab-df-convert:hover {\n",
              "      background-color: #434B5C;\n",
              "      box-shadow: 0px 1px 3px 1px rgba(0, 0, 0, 0.15);\n",
              "      filter: drop-shadow(0px 1px 2px rgba(0, 0, 0, 0.3));\n",
              "      fill: #FFFFFF;\n",
              "    }\n",
              "  </style>\n",
              "\n",
              "      <script>\n",
              "        const buttonEl =\n",
              "          document.querySelector('#df-a882b8c1-d92c-412d-84c8-d9d0001d4bb7 button.colab-df-convert');\n",
              "        buttonEl.style.display =\n",
              "          google.colab.kernel.accessAllowed ? 'block' : 'none';\n",
              "\n",
              "        async function convertToInteractive(key) {\n",
              "          const element = document.querySelector('#df-a882b8c1-d92c-412d-84c8-d9d0001d4bb7');\n",
              "          const dataTable =\n",
              "            await google.colab.kernel.invokeFunction('convertToInteractive',\n",
              "                                                     [key], {});\n",
              "          if (!dataTable) return;\n",
              "\n",
              "          const docLinkHtml = 'Like what you see? Visit the ' +\n",
              "            '<a target=\"_blank\" href=https://colab.research.google.com/notebooks/data_table.ipynb>data table notebook</a>'\n",
              "            + ' to learn more about interactive tables.';\n",
              "          element.innerHTML = '';\n",
              "          dataTable['output_type'] = 'display_data';\n",
              "          await google.colab.output.renderOutput(dataTable, element);\n",
              "          const docLink = document.createElement('div');\n",
              "          docLink.innerHTML = docLinkHtml;\n",
              "          element.appendChild(docLink);\n",
              "        }\n",
              "      </script>\n",
              "    </div>\n",
              "  </div>\n",
              "  "
            ]
          },
          "metadata": {},
          "execution_count": 4
        }
      ]
    },
    {
      "cell_type": "code",
      "source": [
        "retornos*np.sqrt(252)\n",
        "#RETORNOS ANUALES"
      ],
      "metadata": {
        "colab": {
          "base_uri": "https://localhost:8080/",
          "height": 455
        },
        "id": "UYSoarkYVan5",
        "outputId": "5434ff23-5428-4ce7-9e45-8701721c9ed2"
      },
      "execution_count": 5,
      "outputs": [
        {
          "output_type": "execute_result",
          "data": {
            "text/plain": [
              "                RACE        UL\n",
              "Date                          \n",
              "2021-01-05 -0.065166  0.007867\n",
              "2021-01-06 -0.306986  0.023572\n",
              "2021-01-07  0.025037 -0.218744\n",
              "2021-01-08 -0.297970  0.187305\n",
              "2021-01-11 -0.000727 -0.267117\n",
              "...              ...       ...\n",
              "2022-12-23 -0.116182  0.065410\n",
              "2022-12-27  0.074305  0.012429\n",
              "2022-12-28 -0.131583 -0.206328\n",
              "2022-12-29  0.471613  0.047128\n",
              "2022-12-30 -0.174661 -0.078626\n",
              "\n",
              "[502 rows x 2 columns]"
            ],
            "text/html": [
              "\n",
              "  <div id=\"df-d29849c4-64ad-41e3-aabd-44e07bac21ee\">\n",
              "    <div class=\"colab-df-container\">\n",
              "      <div>\n",
              "<style scoped>\n",
              "    .dataframe tbody tr th:only-of-type {\n",
              "        vertical-align: middle;\n",
              "    }\n",
              "\n",
              "    .dataframe tbody tr th {\n",
              "        vertical-align: top;\n",
              "    }\n",
              "\n",
              "    .dataframe thead th {\n",
              "        text-align: right;\n",
              "    }\n",
              "</style>\n",
              "<table border=\"1\" class=\"dataframe\">\n",
              "  <thead>\n",
              "    <tr style=\"text-align: right;\">\n",
              "      <th></th>\n",
              "      <th>RACE</th>\n",
              "      <th>UL</th>\n",
              "    </tr>\n",
              "    <tr>\n",
              "      <th>Date</th>\n",
              "      <th></th>\n",
              "      <th></th>\n",
              "    </tr>\n",
              "  </thead>\n",
              "  <tbody>\n",
              "    <tr>\n",
              "      <th>2021-01-05</th>\n",
              "      <td>-0.065166</td>\n",
              "      <td>0.007867</td>\n",
              "    </tr>\n",
              "    <tr>\n",
              "      <th>2021-01-06</th>\n",
              "      <td>-0.306986</td>\n",
              "      <td>0.023572</td>\n",
              "    </tr>\n",
              "    <tr>\n",
              "      <th>2021-01-07</th>\n",
              "      <td>0.025037</td>\n",
              "      <td>-0.218744</td>\n",
              "    </tr>\n",
              "    <tr>\n",
              "      <th>2021-01-08</th>\n",
              "      <td>-0.297970</td>\n",
              "      <td>0.187305</td>\n",
              "    </tr>\n",
              "    <tr>\n",
              "      <th>2021-01-11</th>\n",
              "      <td>-0.000727</td>\n",
              "      <td>-0.267117</td>\n",
              "    </tr>\n",
              "    <tr>\n",
              "      <th>...</th>\n",
              "      <td>...</td>\n",
              "      <td>...</td>\n",
              "    </tr>\n",
              "    <tr>\n",
              "      <th>2022-12-23</th>\n",
              "      <td>-0.116182</td>\n",
              "      <td>0.065410</td>\n",
              "    </tr>\n",
              "    <tr>\n",
              "      <th>2022-12-27</th>\n",
              "      <td>0.074305</td>\n",
              "      <td>0.012429</td>\n",
              "    </tr>\n",
              "    <tr>\n",
              "      <th>2022-12-28</th>\n",
              "      <td>-0.131583</td>\n",
              "      <td>-0.206328</td>\n",
              "    </tr>\n",
              "    <tr>\n",
              "      <th>2022-12-29</th>\n",
              "      <td>0.471613</td>\n",
              "      <td>0.047128</td>\n",
              "    </tr>\n",
              "    <tr>\n",
              "      <th>2022-12-30</th>\n",
              "      <td>-0.174661</td>\n",
              "      <td>-0.078626</td>\n",
              "    </tr>\n",
              "  </tbody>\n",
              "</table>\n",
              "<p>502 rows × 2 columns</p>\n",
              "</div>\n",
              "      <button class=\"colab-df-convert\" onclick=\"convertToInteractive('df-d29849c4-64ad-41e3-aabd-44e07bac21ee')\"\n",
              "              title=\"Convert this dataframe to an interactive table.\"\n",
              "              style=\"display:none;\">\n",
              "        \n",
              "  <svg xmlns=\"http://www.w3.org/2000/svg\" height=\"24px\"viewBox=\"0 0 24 24\"\n",
              "       width=\"24px\">\n",
              "    <path d=\"M0 0h24v24H0V0z\" fill=\"none\"/>\n",
              "    <path d=\"M18.56 5.44l.94 2.06.94-2.06 2.06-.94-2.06-.94-.94-2.06-.94 2.06-2.06.94zm-11 1L8.5 8.5l.94-2.06 2.06-.94-2.06-.94L8.5 2.5l-.94 2.06-2.06.94zm10 10l.94 2.06.94-2.06 2.06-.94-2.06-.94-.94-2.06-.94 2.06-2.06.94z\"/><path d=\"M17.41 7.96l-1.37-1.37c-.4-.4-.92-.59-1.43-.59-.52 0-1.04.2-1.43.59L10.3 9.45l-7.72 7.72c-.78.78-.78 2.05 0 2.83L4 21.41c.39.39.9.59 1.41.59.51 0 1.02-.2 1.41-.59l7.78-7.78 2.81-2.81c.8-.78.8-2.07 0-2.86zM5.41 20L4 18.59l7.72-7.72 1.47 1.35L5.41 20z\"/>\n",
              "  </svg>\n",
              "      </button>\n",
              "      \n",
              "  <style>\n",
              "    .colab-df-container {\n",
              "      display:flex;\n",
              "      flex-wrap:wrap;\n",
              "      gap: 12px;\n",
              "    }\n",
              "\n",
              "    .colab-df-convert {\n",
              "      background-color: #E8F0FE;\n",
              "      border: none;\n",
              "      border-radius: 50%;\n",
              "      cursor: pointer;\n",
              "      display: none;\n",
              "      fill: #1967D2;\n",
              "      height: 32px;\n",
              "      padding: 0 0 0 0;\n",
              "      width: 32px;\n",
              "    }\n",
              "\n",
              "    .colab-df-convert:hover {\n",
              "      background-color: #E2EBFA;\n",
              "      box-shadow: 0px 1px 2px rgba(60, 64, 67, 0.3), 0px 1px 3px 1px rgba(60, 64, 67, 0.15);\n",
              "      fill: #174EA6;\n",
              "    }\n",
              "\n",
              "    [theme=dark] .colab-df-convert {\n",
              "      background-color: #3B4455;\n",
              "      fill: #D2E3FC;\n",
              "    }\n",
              "\n",
              "    [theme=dark] .colab-df-convert:hover {\n",
              "      background-color: #434B5C;\n",
              "      box-shadow: 0px 1px 3px 1px rgba(0, 0, 0, 0.15);\n",
              "      filter: drop-shadow(0px 1px 2px rgba(0, 0, 0, 0.3));\n",
              "      fill: #FFFFFF;\n",
              "    }\n",
              "  </style>\n",
              "\n",
              "      <script>\n",
              "        const buttonEl =\n",
              "          document.querySelector('#df-d29849c4-64ad-41e3-aabd-44e07bac21ee button.colab-df-convert');\n",
              "        buttonEl.style.display =\n",
              "          google.colab.kernel.accessAllowed ? 'block' : 'none';\n",
              "\n",
              "        async function convertToInteractive(key) {\n",
              "          const element = document.querySelector('#df-d29849c4-64ad-41e3-aabd-44e07bac21ee');\n",
              "          const dataTable =\n",
              "            await google.colab.kernel.invokeFunction('convertToInteractive',\n",
              "                                                     [key], {});\n",
              "          if (!dataTable) return;\n",
              "\n",
              "          const docLinkHtml = 'Like what you see? Visit the ' +\n",
              "            '<a target=\"_blank\" href=https://colab.research.google.com/notebooks/data_table.ipynb>data table notebook</a>'\n",
              "            + ' to learn more about interactive tables.';\n",
              "          element.innerHTML = '';\n",
              "          dataTable['output_type'] = 'display_data';\n",
              "          await google.colab.output.renderOutput(dataTable, element);\n",
              "          const docLink = document.createElement('div');\n",
              "          docLink.innerHTML = docLinkHtml;\n",
              "          element.appendChild(docLink);\n",
              "        }\n",
              "      </script>\n",
              "    </div>\n",
              "  </div>\n",
              "  "
            ]
          },
          "metadata": {},
          "execution_count": 5
        }
      ]
    },
    {
      "cell_type": "markdown",
      "source": [
        "b. Calcule los retornos esperados y volatilidades anualizadas."
      ],
      "metadata": {
        "id": "F6_ZU5LQU1KU"
      }
    },
    {
      "cell_type": "code",
      "source": [
        "p_name = pdr.DataReader(['RACE'], start, end )['Adj Close'].dropna()\n",
        "r_name = np.log(p_name/p_name.shift(1)).dropna()\n",
        "sigma = r_name.std()\n",
        "sigma*np.sqrt(252)\n",
        "#VOLATILIDAD ANUALIZADA FERRARI"
      ],
      "metadata": {
        "colab": {
          "base_uri": "https://localhost:8080/"
        },
        "id": "ilktzM31U1ww",
        "outputId": "040aa5f4-553b-41b5-c83c-94e0fc41af10"
      },
      "execution_count": 6,
      "outputs": [
        {
          "output_type": "stream",
          "name": "stdout",
          "text": [
            "\r[*********************100%***********************]  1 of 1 completed\n"
          ]
        },
        {
          "output_type": "execute_result",
          "data": {
            "text/plain": [
              "0.2959386837160197"
            ]
          },
          "metadata": {},
          "execution_count": 6
        }
      ]
    },
    {
      "cell_type": "code",
      "source": [
        "p_name2 = pdr.DataReader(['UL'], start, end )['Adj Close'].dropna()\n",
        "r_name2 = np.log(p_name2/p_name2.shift(1)).dropna()\n",
        "sigma2 = r_name2.std()\n",
        "sigma2*np.sqrt(252)\n",
        "#VOLATILIDAD ANUALIZADA UNILEVER"
      ],
      "metadata": {
        "colab": {
          "base_uri": "https://localhost:8080/"
        },
        "id": "ulQO1YqNWFv4",
        "outputId": "2d134235-b847-4f12-8615-20bf633fdf03"
      },
      "execution_count": 7,
      "outputs": [
        {
          "output_type": "stream",
          "name": "stdout",
          "text": [
            "\r[*********************100%***********************]  1 of 1 completed\n"
          ]
        },
        {
          "output_type": "execute_result",
          "data": {
            "text/plain": [
              "0.24640824897790584"
            ]
          },
          "metadata": {},
          "execution_count": 7
        }
      ]
    },
    {
      "cell_type": "code",
      "source": [
        "#RETORNOS ESPERADOS\n",
        "retornos.mean()"
      ],
      "metadata": {
        "id": "1P5vcayyXIg0",
        "colab": {
          "base_uri": "https://localhost:8080/"
        },
        "outputId": "f68bed66-5520-4921-af6a-393a529d3db5"
      },
      "execution_count": 49,
      "outputs": [
        {
          "output_type": "execute_result",
          "data": {
            "text/plain": [
              "RACE   -0.000092\n",
              "UL     -0.000220\n",
              "dtype: float64"
            ]
          },
          "metadata": {},
          "execution_count": 49
        }
      ]
    },
    {
      "cell_type": "markdown",
      "source": [
        "c. Construya una tabla resumen con las estadísticas descriptivas de las series diarias\n",
        "(media, mediana, desv. estándar, curtosis, simetría) de los dos activos."
      ],
      "metadata": {
        "id": "t6AHaUZmXZQC"
      }
    },
    {
      "cell_type": "code",
      "source": [
        "p_name = pdr.DataReader(['RACE'], start, end, interval = '1d' )['Adj Close'].dropna()"
      ],
      "metadata": {
        "colab": {
          "base_uri": "https://localhost:8080/"
        },
        "id": "ightxzc3XaBq",
        "outputId": "42de732e-186d-450c-e19c-5d49899c9c1f"
      },
      "execution_count": 10,
      "outputs": [
        {
          "output_type": "stream",
          "name": "stdout",
          "text": [
            "\r[*********************100%***********************]  1 of 1 completed\n"
          ]
        }
      ]
    },
    {
      "cell_type": "code",
      "source": [
        "p_name.describe()"
      ],
      "metadata": {
        "colab": {
          "base_uri": "https://localhost:8080/"
        },
        "id": "CdnvfyvkX-QG",
        "outputId": "6108ddc8-b0bd-42db-e804-e03848061b28"
      },
      "execution_count": 11,
      "outputs": [
        {
          "output_type": "execute_result",
          "data": {
            "text/plain": [
              "count    503.000000\n",
              "mean     211.748155\n",
              "std       19.740990\n",
              "min      168.750000\n",
              "25%      197.659317\n",
              "50%      210.250000\n",
              "75%      218.628700\n",
              "max      273.465912\n",
              "Name: Adj Close, dtype: float64"
            ]
          },
          "metadata": {},
          "execution_count": 11
        }
      ]
    },
    {
      "cell_type": "code",
      "source": [
        "p_name.kurtosis()"
      ],
      "metadata": {
        "colab": {
          "base_uri": "https://localhost:8080/"
        },
        "id": "Qbs589VrYGmJ",
        "outputId": "8b774a50-ec77-4be7-a7cf-5361d21a9299"
      },
      "execution_count": 12,
      "outputs": [
        {
          "output_type": "execute_result",
          "data": {
            "text/plain": [
              "0.869948497137448"
            ]
          },
          "metadata": {},
          "execution_count": 12
        }
      ]
    },
    {
      "cell_type": "code",
      "source": [
        "p_name.skew()"
      ],
      "metadata": {
        "colab": {
          "base_uri": "https://localhost:8080/"
        },
        "id": "gkFAE0khYVzU",
        "outputId": "169e7619-4749-4482-af90-4e1047f0ef0b"
      },
      "execution_count": 13,
      "outputs": [
        {
          "output_type": "execute_result",
          "data": {
            "text/plain": [
              "0.9881532979227228"
            ]
          },
          "metadata": {},
          "execution_count": 13
        }
      ]
    },
    {
      "cell_type": "code",
      "source": [
        "p_name2 = pdr.DataReader(['UL'], start, end, interval = '1d' )['Adj Close'].dropna()"
      ],
      "metadata": {
        "colab": {
          "base_uri": "https://localhost:8080/"
        },
        "id": "jwo_mpxWYbuW",
        "outputId": "13124415-d1ef-40c4-835e-1c7719ca527a"
      },
      "execution_count": 14,
      "outputs": [
        {
          "output_type": "stream",
          "name": "stdout",
          "text": [
            "\r[*********************100%***********************]  1 of 1 completed\n"
          ]
        }
      ]
    },
    {
      "cell_type": "code",
      "source": [
        "p_name2.describe()"
      ],
      "metadata": {
        "colab": {
          "base_uri": "https://localhost:8080/"
        },
        "id": "bDiJtxYOYhET",
        "outputId": "5cf77cdd-cf6e-4ef7-ce78-db6dd29a4f1d"
      },
      "execution_count": 15,
      "outputs": [
        {
          "output_type": "execute_result",
          "data": {
            "text/plain": [
              "count    503.000000\n",
              "mean      49.795237\n",
              "std        4.315515\n",
              "min       42.296543\n",
              "25%       45.362194\n",
              "50%       50.470001\n",
              "75%       52.929937\n",
              "max       57.617676\n",
              "Name: Adj Close, dtype: float64"
            ]
          },
          "metadata": {},
          "execution_count": 15
        }
      ]
    },
    {
      "cell_type": "code",
      "source": [
        "p_name2.kurtosis()"
      ],
      "metadata": {
        "colab": {
          "base_uri": "https://localhost:8080/"
        },
        "id": "cUq1th3DYp6m",
        "outputId": "9311b548-3cbb-4d1c-a995-7fbb680c1f28"
      },
      "execution_count": 16,
      "outputs": [
        {
          "output_type": "execute_result",
          "data": {
            "text/plain": [
              "-1.1356489829968923"
            ]
          },
          "metadata": {},
          "execution_count": 16
        }
      ]
    },
    {
      "cell_type": "code",
      "source": [
        "p_name2.skew()"
      ],
      "metadata": {
        "colab": {
          "base_uri": "https://localhost:8080/"
        },
        "id": "hPMRl8CJYwyB",
        "outputId": "f14ad3f2-b2b3-4d03-ada6-08220080c3c7"
      },
      "execution_count": 17,
      "outputs": [
        {
          "output_type": "execute_result",
          "data": {
            "text/plain": [
              "-0.014759244989849055"
            ]
          },
          "metadata": {},
          "execution_count": 17
        }
      ]
    },
    {
      "cell_type": "markdown",
      "source": [
        "d. Compare las distribuciones empíricas de los dos activos con la distribución teórica\n",
        "normal."
      ],
      "metadata": {
        "id": "Hli1YqI_Y36e"
      }
    },
    {
      "cell_type": "code",
      "source": [
        "p_name = pdr.DataReader(['RACE'], start, end, interval = '1d' )['Adj Close'].dropna()\n",
        "retornos = np.log(p_name/p_name.shift(1)).dropna()\n",
        "retornos.hist(bins=20)"
      ],
      "metadata": {
        "colab": {
          "base_uri": "https://localhost:8080/",
          "height": 300
        },
        "id": "_tqxeWK3Y4VQ",
        "outputId": "3cf30a9a-965f-4b55-c9aa-cf0fe7d691e2"
      },
      "execution_count": 18,
      "outputs": [
        {
          "output_type": "stream",
          "name": "stdout",
          "text": [
            "\r[*********************100%***********************]  1 of 1 completed\n"
          ]
        },
        {
          "output_type": "execute_result",
          "data": {
            "text/plain": [
              "<matplotlib.axes._subplots.AxesSubplot at 0x7f511a9712e0>"
            ]
          },
          "metadata": {},
          "execution_count": 18
        },
        {
          "output_type": "display_data",
          "data": {
            "text/plain": [
              "<Figure size 432x288 with 1 Axes>"
            ],
            "image/png": "[encoded data removed]"
          },
          "metadata": {
            "needs_background": "light"
          }
        }
      ]
    },
    {
      "cell_type": "code",
      "source": [
        "p_name2 = pdr.DataReader(['UL'], start, end, interval = '1d' )['Adj Close'].dropna()\n",
        "retornos2 = np.log(p_name2/p_name2.shift(1)).dropna()\n",
        "retornos2.hist(bins=20)"
      ],
      "metadata": {
        "colab": {
          "base_uri": "https://localhost:8080/",
          "height": 300
        },
        "id": "b3_epQqHZ2s5",
        "outputId": "a866b443-7cd7-4080-c126-ffd0f4093a5b"
      },
      "execution_count": 19,
      "outputs": [
        {
          "output_type": "stream",
          "name": "stdout",
          "text": [
            "\r[*********************100%***********************]  1 of 1 completed\n"
          ]
        },
        {
          "output_type": "execute_result",
          "data": {
            "text/plain": [
              "<matplotlib.axes._subplots.AxesSubplot at 0x7f511a8d0df0>"
            ]
          },
          "metadata": {},
          "execution_count": 19
        },
        {
          "output_type": "display_data",
          "data": {
            "text/plain": [
              "<Figure size 432x288 with 1 Axes>"
            ],
            "image/png": "[encoded data removed]"
          },
          "metadata": {
            "needs_background": "light"
          }
        }
      ]
    },
    {
      "cell_type": "markdown",
      "source": [
        "en ambas se observa una distribución normal, en los retornos de las acciones de unilever se ve un sesgo hacia la derecha"
      ],
      "metadata": {
        "id": "1VfPR7dtagCc"
      }
    },
    {
      "cell_type": "markdown",
      "source": [
        "e. Calcule la matriz de correlaciones de Pearson, rango de Kendall y de Spearman."
      ],
      "metadata": {
        "id": "EBNcWh6Ra5Wf"
      }
    },
    {
      "cell_type": "code",
      "source": [
        "activos = [\"RACE\", \"UL\"]\n",
        "precios = pdr.DataReader(activos, start, end, interval = '1d')['Adj Close'].dropna()\n",
        "retornos = np.log(precios/precios.shift()).dropna()\n",
        "plt.scatter(retornos[\"RACE\"],retornos[\"UL\"]);"
      ],
      "metadata": {
        "colab": {
          "base_uri": "https://localhost:8080/",
          "height": 282
        },
        "id": "GbZgJRpUmmYr",
        "outputId": "d44c8ded-4735-4e97-a36c-50c5c5e01b5a"
      },
      "execution_count": 20,
      "outputs": [
        {
          "output_type": "stream",
          "name": "stdout",
          "text": [
            "\r[                       0%                       ]\r[*********************100%***********************]  2 of 2 completed\n"
          ]
        },
        {
          "output_type": "display_data",
          "data": {
            "text/plain": [
              "<Figure size 432x288 with 1 Axes>"
            ],
            "image/png": "[encoded data removed]"
          },
          "metadata": {
            "needs_background": "light"
          }
        }
      ]
    },
    {
      "cell_type": "markdown",
      "source": [
        "Pearson"
      ],
      "metadata": {
        "id": "qDjxqeHZnJ_8"
      }
    },
    {
      "cell_type": "code",
      "source": [
        "retornos.corr()"
      ],
      "metadata": {
        "colab": {
          "base_uri": "https://localhost:8080/",
          "height": 112
        },
        "id": "ES9dySoonH3l",
        "outputId": "887345c3-b774-4300-de88-65484fdf7c5f"
      },
      "execution_count": 21,
      "outputs": [
        {
          "output_type": "execute_result",
          "data": {
            "text/plain": [
              "          RACE        UL\n",
              "RACE  1.000000  0.294368\n",
              "UL    0.294368  1.000000"
            ],
            "text/html": [
              "\n",
              "  <div id=\"df-e51e2c55-195a-4caa-be4e-4cc32e4dff75\">\n",
              "    <div class=\"colab-df-container\">\n",
              "      <div>\n",
              "<style scoped>\n",
              "    .dataframe tbody tr th:only-of-type {\n",
              "        vertical-align: middle;\n",
              "    }\n",
              "\n",
              "    .dataframe tbody tr th {\n",
              "        vertical-align: top;\n",
              "    }\n",
              "\n",
              "    .dataframe thead th {\n",
              "        text-align: right;\n",
              "    }\n",
              "</style>\n",
              "<table border=\"1\" class=\"dataframe\">\n",
              "  <thead>\n",
              "    <tr style=\"text-align: right;\">\n",
              "      <th></th>\n",
              "      <th>RACE</th>\n",
              "      <th>UL</th>\n",
              "    </tr>\n",
              "  </thead>\n",
              "  <tbody>\n",
              "    <tr>\n",
              "      <th>RACE</th>\n",
              "      <td>1.000000</td>\n",
              "      <td>0.294368</td>\n",
              "    </tr>\n",
              "    <tr>\n",
              "      <th>UL</th>\n",
              "      <td>0.294368</td>\n",
              "      <td>1.000000</td>\n",
              "    </tr>\n",
              "  </tbody>\n",
              "</table>\n",
              "</div>\n",
              "      <button class=\"colab-df-convert\" onclick=\"convertToInteractive('df-e51e2c55-195a-4caa-be4e-4cc32e4dff75')\"\n",
              "              title=\"Convert this dataframe to an interactive table.\"\n",
              "              style=\"display:none;\">\n",
              "        \n",
              "  <svg xmlns=\"http://www.w3.org/2000/svg\" height=\"24px\"viewBox=\"0 0 24 24\"\n",
              "       width=\"24px\">\n",
              "    <path d=\"M0 0h24v24H0V0z\" fill=\"none\"/>\n",
              "    <path d=\"M18.56 5.44l.94 2.06.94-2.06 2.06-.94-2.06-.94-.94-2.06-.94 2.06-2.06.94zm-11 1L8.5 8.5l.94-2.06 2.06-.94-2.06-.94L8.5 2.5l-.94 2.06-2.06.94zm10 10l.94 2.06.94-2.06 2.06-.94-2.06-.94-.94-2.06-.94 2.06-2.06.94z\"/><path d=\"M17.41 7.96l-1.37-1.37c-.4-.4-.92-.59-1.43-.59-.52 0-1.04.2-1.43.59L10.3 9.45l-7.72 7.72c-.78.78-.78 2.05 0 2.83L4 21.41c.39.39.9.59 1.41.59.51 0 1.02-.2 1.41-.59l7.78-7.78 2.81-2.81c.8-.78.8-2.07 0-2.86zM5.41 20L4 18.59l7.72-7.72 1.47 1.35L5.41 20z\"/>\n",
              "  </svg>\n",
              "      </button>\n",
              "      \n",
              "  <style>\n",
              "    .colab-df-container {\n",
              "      display:flex;\n",
              "      flex-wrap:wrap;\n",
              "      gap: 12px;\n",
              "    }\n",
              "\n",
              "    .colab-df-convert {\n",
              "      background-color: #E8F0FE;\n",
              "      border: none;\n",
              "      border-radius: 50%;\n",
              "      cursor: pointer;\n",
              "      display: none;\n",
              "      fill: #1967D2;\n",
              "      height: 32px;\n",
              "      padding: 0 0 0 0;\n",
              "      width: 32px;\n",
              "    }\n",
              "\n",
              "    .colab-df-convert:hover {\n",
              "      background-color: #E2EBFA;\n",
              "      box-shadow: 0px 1px 2px rgba(60, 64, 67, 0.3), 0px 1px 3px 1px rgba(60, 64, 67, 0.15);\n",
              "      fill: #174EA6;\n",
              "    }\n",
              "\n",
              "    [theme=dark] .colab-df-convert {\n",
              "      background-color: #3B4455;\n",
              "      fill: #D2E3FC;\n",
              "    }\n",
              "\n",
              "    [theme=dark] .colab-df-convert:hover {\n",
              "      background-color: #434B5C;\n",
              "      box-shadow: 0px 1px 3px 1px rgba(0, 0, 0, 0.15);\n",
              "      filter: drop-shadow(0px 1px 2px rgba(0, 0, 0, 0.3));\n",
              "      fill: #FFFFFF;\n",
              "    }\n",
              "  </style>\n",
              "\n",
              "      <script>\n",
              "        const buttonEl =\n",
              "          document.querySelector('#df-e51e2c55-195a-4caa-be4e-4cc32e4dff75 button.colab-df-convert');\n",
              "        buttonEl.style.display =\n",
              "          google.colab.kernel.accessAllowed ? 'block' : 'none';\n",
              "\n",
              "        async function convertToInteractive(key) {\n",
              "          const element = document.querySelector('#df-e51e2c55-195a-4caa-be4e-4cc32e4dff75');\n",
              "          const dataTable =\n",
              "            await google.colab.kernel.invokeFunction('convertToInteractive',\n",
              "                                                     [key], {});\n",
              "          if (!dataTable) return;\n",
              "\n",
              "          const docLinkHtml = 'Like what you see? Visit the ' +\n",
              "            '<a target=\"_blank\" href=https://colab.research.google.com/notebooks/data_table.ipynb>data table notebook</a>'\n",
              "            + ' to learn more about interactive tables.';\n",
              "          element.innerHTML = '';\n",
              "          dataTable['output_type'] = 'display_data';\n",
              "          await google.colab.output.renderOutput(dataTable, element);\n",
              "          const docLink = document.createElement('div');\n",
              "          docLink.innerHTML = docLinkHtml;\n",
              "          element.appendChild(docLink);\n",
              "        }\n",
              "      </script>\n",
              "    </div>\n",
              "  </div>\n",
              "  "
            ]
          },
          "metadata": {},
          "execution_count": 21
        }
      ]
    },
    {
      "cell_type": "code",
      "source": [
        "#La correlación es positiva"
      ],
      "metadata": {
        "id": "hq2V-N2iqNdI"
      },
      "execution_count": 22,
      "outputs": []
    },
    {
      "cell_type": "code",
      "source": [
        "retornos['RACE'].corr(retornos['UL'], method='pearson')"
      ],
      "metadata": {
        "colab": {
          "base_uri": "https://localhost:8080/"
        },
        "id": "K9RBoG5knUrY",
        "outputId": "122b6e83-a799-422f-b0ab-4f4536104585"
      },
      "execution_count": 23,
      "outputs": [
        {
          "output_type": "execute_result",
          "data": {
            "text/plain": [
              "0.29436795536751365"
            ]
          },
          "metadata": {},
          "execution_count": 23
        }
      ]
    },
    {
      "cell_type": "markdown",
      "source": [
        "Kendall"
      ],
      "metadata": {
        "id": "qYGqqbaend1z"
      }
    },
    {
      "cell_type": "code",
      "source": [
        "import scipy.stats as stats\n",
        "stats.kendalltau(retornos['RACE'], retornos['UL'])"
      ],
      "metadata": {
        "colab": {
          "base_uri": "https://localhost:8080/"
        },
        "id": "97x1tuv6nfIk",
        "outputId": "cf1d59ca-ff68-4a64-c464-fcb45aa793f8"
      },
      "execution_count": 24,
      "outputs": [
        {
          "output_type": "execute_result",
          "data": {
            "text/plain": [
              "KendalltauResult(correlation=0.2053594513305592, pvalue=6.104816685824143e-12)"
            ]
          },
          "metadata": {},
          "execution_count": 24
        }
      ]
    },
    {
      "cell_type": "markdown",
      "source": [
        "Spearman"
      ],
      "metadata": {
        "id": "xJs40clEnqd3"
      }
    },
    {
      "cell_type": "code",
      "source": [
        "stats.spearmanr(retornos['RACE'], retornos['UL'])"
      ],
      "metadata": {
        "colab": {
          "base_uri": "https://localhost:8080/"
        },
        "id": "b0rIM6a7nxCV",
        "outputId": "820ea3eb-d446-4402-c1dd-a3138990b3e8"
      },
      "execution_count": 25,
      "outputs": [
        {
          "output_type": "execute_result",
          "data": {
            "text/plain": [
              "SpearmanrResult(correlation=0.2963299619817865, pvalue=1.2389438248323438e-11)"
            ]
          },
          "metadata": {},
          "execution_count": 25
        }
      ]
    },
    {
      "cell_type": "markdown",
      "source": [
        "2. Escoja 10 acciones de su preferencia en el mercado estadounidense. Para estas\n",
        "acciones descargue las series de precios mensuales para el periodo Dic-17 a Dic-2022.\n",
        "Con esta información:"
      ],
      "metadata": {
        "id": "GaBMLuEVbnlG"
      }
    },
    {
      "cell_type": "markdown",
      "source": [
        "a. Calcule los retornos y volatilidades anualizadas."
      ],
      "metadata": {
        "id": "SVM0nmkxbpUJ"
      }
    },
    {
      "cell_type": "code",
      "source": [
        "start = pd.to_datetime(\"2017-10-31\")\n",
        "end = pd.to_datetime(\"2022-12-31\")\n",
        "\n",
        "precios10 = pdr.DataReader(['GS', 'V', 'INTC', 'RA', 'MNST', 'TMUS', 'NVDA', 'ARE', 'GOOGL', 'AMD'], start, end, interval = '1mo')['Adj Close'].dropna()\n",
        "retornos10 = np.log(precios10/precios10.shift(1)).dropna()\n",
        "retornos10*np.sqrt(252)\n",
        "#RETORNOS ANUALIZADOS"
      ],
      "metadata": {
        "colab": {
          "base_uri": "https://localhost:8080/",
          "height": 472
        },
        "id": "YhM5IbGPb5OC",
        "outputId": "45729e47-ef5d-4424-da8d-6c69188d924a"
      },
      "execution_count": 26,
      "outputs": [
        {
          "output_type": "stream",
          "name": "stdout",
          "text": [
            "[*********************100%***********************]  10 of 10 completed\n"
          ]
        },
        {
          "output_type": "execute_result",
          "data": {
            "text/plain": [
              "                 AMD       ARE     GOOGL        GS      INTC      MNST  \\\n",
              "Date                                                                     \n",
              "2017-12-01 -0.915082  0.435011  0.261799  0.499782  0.554365  0.156277   \n",
              "2018-01-01  4.605370  0.000688  1.831458  0.797770  0.666727  1.193081   \n",
              "2018-02-01 -2.004629 -1.061606 -1.087825 -0.296673  0.374760 -1.173029   \n",
              "2018-03-01 -2.959943  0.461697 -0.990578 -0.638335  0.981382 -1.623357   \n",
              "2018-04-01  1.259699  0.076835 -0.286652 -0.876545 -0.140835 -0.625384   \n",
              "...              ...       ...       ...       ...       ...       ...   \n",
              "2022-08-01 -1.701138 -1.232064 -1.145803 -0.034319 -2.045596 -1.819830   \n",
              "2022-09-01 -4.639927 -1.429503 -1.960033 -1.893611 -3.238033 -0.337750   \n",
              "2022-10-01 -0.849106  0.701540 -0.190336  2.568176  1.559414  1.188420   \n",
              "2022-11-01  4.073555  1.088233  1.052731  1.811325  0.890290  1.477238   \n",
              "2022-12-01 -2.875055 -1.047862 -2.144240 -1.759713 -1.835293 -0.206599   \n",
              "\n",
              "                NVDA        RA      TMUS         V  \n",
              "Date                                                \n",
              "2017-12-01 -0.569720  0.289897  0.621909  0.228451  \n",
              "2018-01-01  3.797829  0.217059  0.392532  1.361411  \n",
              "2018-02-01 -0.247334 -0.886104 -1.134466 -0.165702  \n",
              "2018-03-01 -0.688126 -0.045460  0.112225 -0.406973  \n",
              "2018-04-01 -0.465326  0.461171 -0.138438  0.935354  \n",
              "...              ...       ...       ...       ...  \n",
              "2022-08-01 -2.938201 -0.689312  0.099556 -1.035946  \n",
              "2022-09-01 -3.458641 -1.571000 -1.118008 -1.750349  \n",
              "2022-10-01  1.688114  0.200446  1.934689  2.439534  \n",
              "2022-11-01  3.590910  0.763472 -0.010477  0.736671  \n",
              "2022-12-01 -2.324628 -1.445027 -1.248993 -0.655318  \n",
              "\n",
              "[61 rows x 10 columns]"
            ],
            "text/html": [
              "\n",
              "  <div id=\"df-14be5c79-650d-44be-9440-d1e5769fc359\">\n",
              "    <div class=\"colab-df-container\">\n",
              "      <div>\n",
              "<style scoped>\n",
              "    .dataframe tbody tr th:only-of-type {\n",
              "        vertical-align: middle;\n",
              "    }\n",
              "\n",
              "    .dataframe tbody tr th {\n",
              "        vertical-align: top;\n",
              "    }\n",
              "\n",
              "    .dataframe thead th {\n",
              "        text-align: right;\n",
              "    }\n",
              "</style>\n",
              "<table border=\"1\" class=\"dataframe\">\n",
              "  <thead>\n",
              "    <tr style=\"text-align: right;\">\n",
              "      <th></th>\n",
              "      <th>AMD</th>\n",
              "      <th>ARE</th>\n",
              "      <th>GOOGL</th>\n",
              "      <th>GS</th>\n",
              "      <th>INTC</th>\n",
              "      <th>MNST</th>\n",
              "      <th>NVDA</th>\n",
              "      <th>RA</th>\n",
              "      <th>TMUS</th>\n",
              "      <th>V</th>\n",
              "    </tr>\n",
              "    <tr>\n",
              "      <th>Date</th>\n",
              "      <th></th>\n",
              "      <th></th>\n",
              "      <th></th>\n",
              "      <th></th>\n",
              "      <th></th>\n",
              "      <th></th>\n",
              "      <th></th>\n",
              "      <th></th>\n",
              "      <th></th>\n",
              "      <th></th>\n",
              "    </tr>\n",
              "  </thead>\n",
              "  <tbody>\n",
              "    <tr>\n",
              "      <th>2017-12-01</th>\n",
              "      <td>-0.915082</td>\n",
              "      <td>0.435011</td>\n",
              "      <td>0.261799</td>\n",
              "      <td>0.499782</td>\n",
              "      <td>0.554365</td>\n",
              "      <td>0.156277</td>\n",
              "      <td>-0.569720</td>\n",
              "      <td>0.289897</td>\n",
              "      <td>0.621909</td>\n",
              "      <td>0.228451</td>\n",
              "    </tr>\n",
              "    <tr>\n",
              "      <th>2018-01-01</th>\n",
              "      <td>4.605370</td>\n",
              "      <td>0.000688</td>\n",
              "      <td>1.831458</td>\n",
              "      <td>0.797770</td>\n",
              "      <td>0.666727</td>\n",
              "      <td>1.193081</td>\n",
              "      <td>3.797829</td>\n",
              "      <td>0.217059</td>\n",
              "      <td>0.392532</td>\n",
              "      <td>1.361411</td>\n",
              "    </tr>\n",
              "    <tr>\n",
              "      <th>2018-02-01</th>\n",
              "      <td>-2.004629</td>\n",
              "      <td>-1.061606</td>\n",
              "      <td>-1.087825</td>\n",
              "      <td>-0.296673</td>\n",
              "      <td>0.374760</td>\n",
              "      <td>-1.173029</td>\n",
              "      <td>-0.247334</td>\n",
              "      <td>-0.886104</td>\n",
              "      <td>-1.134466</td>\n",
              "      <td>-0.165702</td>\n",
              "    </tr>\n",
              "    <tr>\n",
              "      <th>2018-03-01</th>\n",
              "      <td>-2.959943</td>\n",
              "      <td>0.461697</td>\n",
              "      <td>-0.990578</td>\n",
              "      <td>-0.638335</td>\n",
              "      <td>0.981382</td>\n",
              "      <td>-1.623357</td>\n",
              "      <td>-0.688126</td>\n",
              "      <td>-0.045460</td>\n",
              "      <td>0.112225</td>\n",
              "      <td>-0.406973</td>\n",
              "    </tr>\n",
              "    <tr>\n",
              "      <th>2018-04-01</th>\n",
              "      <td>1.259699</td>\n",
              "      <td>0.076835</td>\n",
              "      <td>-0.286652</td>\n",
              "      <td>-0.876545</td>\n",
              "      <td>-0.140835</td>\n",
              "      <td>-0.625384</td>\n",
              "      <td>-0.465326</td>\n",
              "      <td>0.461171</td>\n",
              "      <td>-0.138438</td>\n",
              "      <td>0.935354</td>\n",
              "    </tr>\n",
              "    <tr>\n",
              "      <th>...</th>\n",
              "      <td>...</td>\n",
              "      <td>...</td>\n",
              "      <td>...</td>\n",
              "      <td>...</td>\n",
              "      <td>...</td>\n",
              "      <td>...</td>\n",
              "      <td>...</td>\n",
              "      <td>...</td>\n",
              "      <td>...</td>\n",
              "      <td>...</td>\n",
              "    </tr>\n",
              "    <tr>\n",
              "      <th>2022-08-01</th>\n",
              "      <td>-1.701138</td>\n",
              "      <td>-1.232064</td>\n",
              "      <td>-1.145803</td>\n",
              "      <td>-0.034319</td>\n",
              "      <td>-2.045596</td>\n",
              "      <td>-1.819830</td>\n",
              "      <td>-2.938201</td>\n",
              "      <td>-0.689312</td>\n",
              "      <td>0.099556</td>\n",
              "      <td>-1.035946</td>\n",
              "    </tr>\n",
              "    <tr>\n",
              "      <th>2022-09-01</th>\n",
              "      <td>-4.639927</td>\n",
              "      <td>-1.429503</td>\n",
              "      <td>-1.960033</td>\n",
              "      <td>-1.893611</td>\n",
              "      <td>-3.238033</td>\n",
              "      <td>-0.337750</td>\n",
              "      <td>-3.458641</td>\n",
              "      <td>-1.571000</td>\n",
              "      <td>-1.118008</td>\n",
              "      <td>-1.750349</td>\n",
              "    </tr>\n",
              "    <tr>\n",
              "      <th>2022-10-01</th>\n",
              "      <td>-0.849106</td>\n",
              "      <td>0.701540</td>\n",
              "      <td>-0.190336</td>\n",
              "      <td>2.568176</td>\n",
              "      <td>1.559414</td>\n",
              "      <td>1.188420</td>\n",
              "      <td>1.688114</td>\n",
              "      <td>0.200446</td>\n",
              "      <td>1.934689</td>\n",
              "      <td>2.439534</td>\n",
              "    </tr>\n",
              "    <tr>\n",
              "      <th>2022-11-01</th>\n",
              "      <td>4.073555</td>\n",
              "      <td>1.088233</td>\n",
              "      <td>1.052731</td>\n",
              "      <td>1.811325</td>\n",
              "      <td>0.890290</td>\n",
              "      <td>1.477238</td>\n",
              "      <td>3.590910</td>\n",
              "      <td>0.763472</td>\n",
              "      <td>-0.010477</td>\n",
              "      <td>0.736671</td>\n",
              "    </tr>\n",
              "    <tr>\n",
              "      <th>2022-12-01</th>\n",
              "      <td>-2.875055</td>\n",
              "      <td>-1.047862</td>\n",
              "      <td>-2.144240</td>\n",
              "      <td>-1.759713</td>\n",
              "      <td>-1.835293</td>\n",
              "      <td>-0.206599</td>\n",
              "      <td>-2.324628</td>\n",
              "      <td>-1.445027</td>\n",
              "      <td>-1.248993</td>\n",
              "      <td>-0.655318</td>\n",
              "    </tr>\n",
              "  </tbody>\n",
              "</table>\n",
              "<p>61 rows × 10 columns</p>\n",
              "</div>\n",
              "      <button class=\"colab-df-convert\" onclick=\"convertToInteractive('df-14be5c79-650d-44be-9440-d1e5769fc359')\"\n",
              "              title=\"Convert this dataframe to an interactive table.\"\n",
              "              style=\"display:none;\">\n",
              "        \n",
              "  <svg xmlns=\"http://www.w3.org/2000/svg\" height=\"24px\"viewBox=\"0 0 24 24\"\n",
              "       width=\"24px\">\n",
              "    <path d=\"M0 0h24v24H0V0z\" fill=\"none\"/>\n",
              "    <path d=\"M18.56 5.44l.94 2.06.94-2.06 2.06-.94-2.06-.94-.94-2.06-.94 2.06-2.06.94zm-11 1L8.5 8.5l.94-2.06 2.06-.94-2.06-.94L8.5 2.5l-.94 2.06-2.06.94zm10 10l.94 2.06.94-2.06 2.06-.94-2.06-.94-.94-2.06-.94 2.06-2.06.94z\"/><path d=\"M17.41 7.96l-1.37-1.37c-.4-.4-.92-.59-1.43-.59-.52 0-1.04.2-1.43.59L10.3 9.45l-7.72 7.72c-.78.78-.78 2.05 0 2.83L4 21.41c.39.39.9.59 1.41.59.51 0 1.02-.2 1.41-.59l7.78-7.78 2.81-2.81c.8-.78.8-2.07 0-2.86zM5.41 20L4 18.59l7.72-7.72 1.47 1.35L5.41 20z\"/>\n",
              "  </svg>\n",
              "      </button>\n",
              "      \n",
              "  <style>\n",
              "    .colab-df-container {\n",
              "      display:flex;\n",
              "      flex-wrap:wrap;\n",
              "      gap: 12px;\n",
              "    }\n",
              "\n",
              "    .colab-df-convert {\n",
              "      background-color: #E8F0FE;\n",
              "      border: none;\n",
              "      border-radius: 50%;\n",
              "      cursor: pointer;\n",
              "      display: none;\n",
              "      fill: #1967D2;\n",
              "      height: 32px;\n",
              "      padding: 0 0 0 0;\n",
              "      width: 32px;\n",
              "    }\n",
              "\n",
              "    .colab-df-convert:hover {\n",
              "      background-color: #E2EBFA;\n",
              "      box-shadow: 0px 1px 2px rgba(60, 64, 67, 0.3), 0px 1px 3px 1px rgba(60, 64, 67, 0.15);\n",
              "      fill: #174EA6;\n",
              "    }\n",
              "\n",
              "    [theme=dark] .colab-df-convert {\n",
              "      background-color: #3B4455;\n",
              "      fill: #D2E3FC;\n",
              "    }\n",
              "\n",
              "    [theme=dark] .colab-df-convert:hover {\n",
              "      background-color: #434B5C;\n",
              "      box-shadow: 0px 1px 3px 1px rgba(0, 0, 0, 0.15);\n",
              "      filter: drop-shadow(0px 1px 2px rgba(0, 0, 0, 0.3));\n",
              "      fill: #FFFFFF;\n",
              "    }\n",
              "  </style>\n",
              "\n",
              "      <script>\n",
              "        const buttonEl =\n",
              "          document.querySelector('#df-14be5c79-650d-44be-9440-d1e5769fc359 button.colab-df-convert');\n",
              "        buttonEl.style.display =\n",
              "          google.colab.kernel.accessAllowed ? 'block' : 'none';\n",
              "\n",
              "        async function convertToInteractive(key) {\n",
              "          const element = document.querySelector('#df-14be5c79-650d-44be-9440-d1e5769fc359');\n",
              "          const dataTable =\n",
              "            await google.colab.kernel.invokeFunction('convertToInteractive',\n",
              "                                                     [key], {});\n",
              "          if (!dataTable) return;\n",
              "\n",
              "          const docLinkHtml = 'Like what you see? Visit the ' +\n",
              "            '<a target=\"_blank\" href=https://colab.research.google.com/notebooks/data_table.ipynb>data table notebook</a>'\n",
              "            + ' to learn more about interactive tables.';\n",
              "          element.innerHTML = '';\n",
              "          dataTable['output_type'] = 'display_data';\n",
              "          await google.colab.output.renderOutput(dataTable, element);\n",
              "          const docLink = document.createElement('div');\n",
              "          docLink.innerHTML = docLinkHtml;\n",
              "          element.appendChild(docLink);\n",
              "        }\n",
              "      </script>\n",
              "    </div>\n",
              "  </div>\n",
              "  "
            ]
          },
          "metadata": {},
          "execution_count": 26
        }
      ]
    },
    {
      "cell_type": "markdown",
      "source": [
        "VOLATILIDADES ANUALIZADAS"
      ],
      "metadata": {
        "id": "cYEeNttFe0A8"
      }
    },
    {
      "cell_type": "code",
      "source": [
        "p_nameGS = pdr.DataReader(['GS'], start, end, interval = '1mo' )['Adj Close'].dropna()\n",
        "r_nameGS = np.log(p_nameGS/p_nameGS.shift(1)).dropna()\n",
        "sigmaGS = r_nameGS.std()\n",
        "sigmaGS*np.sqrt(252)"
      ],
      "metadata": {
        "colab": {
          "base_uri": "https://localhost:8080/"
        },
        "id": "Ag4KPUlncyqN",
        "outputId": "f9eb9417-6f49-4930-8788-2b0341f5d704"
      },
      "execution_count": 27,
      "outputs": [
        {
          "output_type": "stream",
          "name": "stdout",
          "text": [
            "\r[*********************100%***********************]  1 of 1 completed\n"
          ]
        },
        {
          "output_type": "execute_result",
          "data": {
            "text/plain": [
              "1.4576790943036932"
            ]
          },
          "metadata": {},
          "execution_count": 27
        }
      ]
    },
    {
      "cell_type": "code",
      "source": [
        "p_nameV = pdr.DataReader(['V'], start, end, interval = '1mo' )['Adj Close'].dropna()\n",
        "r_nameV = np.log(p_nameV/p_nameV.shift(1)).dropna()\n",
        "sigmaV = r_nameV.std()\n",
        "sigmaV*np.sqrt(252)"
      ],
      "metadata": {
        "colab": {
          "base_uri": "https://localhost:8080/"
        },
        "id": "K7Cu8VFldFtk",
        "outputId": "85db9fbe-8674-4d36-d900-009dcc985a22"
      },
      "execution_count": 28,
      "outputs": [
        {
          "output_type": "stream",
          "name": "stdout",
          "text": [
            "\r[*********************100%***********************]  1 of 1 completed\n"
          ]
        },
        {
          "output_type": "execute_result",
          "data": {
            "text/plain": [
              "1.0697855531399043"
            ]
          },
          "metadata": {},
          "execution_count": 28
        }
      ]
    },
    {
      "cell_type": "code",
      "source": [
        "p_nameINTC = pdr.DataReader(['INTC'], start, end, interval = '1mo' )['Adj Close'].dropna()\n",
        "r_nameINTC = np.log(p_nameINTC/p_nameINTC.shift(1)).dropna()\n",
        "sigmaINTC = r_nameINTC.std()\n",
        "sigmaINTC*np.sqrt(252)"
      ],
      "metadata": {
        "colab": {
          "base_uri": "https://localhost:8080/"
        },
        "id": "YCsCaonUdThj",
        "outputId": "162d4459-aa43-4406-a5ee-a4afd652fcba"
      },
      "execution_count": 29,
      "outputs": [
        {
          "output_type": "stream",
          "name": "stdout",
          "text": [
            "\r[*********************100%***********************]  1 of 1 completed\n"
          ]
        },
        {
          "output_type": "execute_result",
          "data": {
            "text/plain": [
              "1.3082846518924658"
            ]
          },
          "metadata": {},
          "execution_count": 29
        }
      ]
    },
    {
      "cell_type": "code",
      "source": [
        "p_nameRA = pdr.DataReader(['RA'], start, end, interval = '1mo' )['Adj Close'].dropna()\n",
        "r_nameRA = np.log(p_nameRA/p_nameRA.shift(1)).dropna()\n",
        "sigmaRA = r_nameRA.std()\n",
        "sigmaRA*np.sqrt(252)"
      ],
      "metadata": {
        "colab": {
          "base_uri": "https://localhost:8080/"
        },
        "id": "4GN0_N6ndgeW",
        "outputId": "7389e8cb-0f15-4eab-ca23-735abf3cbeab"
      },
      "execution_count": 30,
      "outputs": [
        {
          "output_type": "stream",
          "name": "stdout",
          "text": [
            "\r[*********************100%***********************]  1 of 1 completed\n"
          ]
        },
        {
          "output_type": "execute_result",
          "data": {
            "text/plain": [
              "0.9944808031234377"
            ]
          },
          "metadata": {},
          "execution_count": 30
        }
      ]
    },
    {
      "cell_type": "code",
      "source": [
        "p_nameMNST = pdr.DataReader(['MNST'], start, end, interval = '1mo' )['Adj Close'].dropna()\n",
        "r_nameMNST = np.log(p_nameMNST/p_nameMNST.shift(1)).dropna()\n",
        "sigmaMNST = r_nameMNST.std()\n",
        "sigmaMNST*np.sqrt(252)"
      ],
      "metadata": {
        "colab": {
          "base_uri": "https://localhost:8080/"
        },
        "id": "dny5HRdIdhh7",
        "outputId": "b6ce2e2a-eb11-49e2-94ef-333d2eb25990"
      },
      "execution_count": 31,
      "outputs": [
        {
          "output_type": "stream",
          "name": "stdout",
          "text": [
            "\r[*********************100%***********************]  1 of 1 completed\n"
          ]
        },
        {
          "output_type": "execute_result",
          "data": {
            "text/plain": [
              "1.2651296283150177"
            ]
          },
          "metadata": {},
          "execution_count": 31
        }
      ]
    },
    {
      "cell_type": "code",
      "source": [
        "p_nameTMUS = pdr.DataReader(['TMUS'], start, end, interval = '1mo' )['Adj Close'].dropna()\n",
        "r_nameTMUS = np.log(p_nameTMUS/p_nameTMUS.shift(1)).dropna()\n",
        "sigmaTMUS = r_nameTMUS.std()\n",
        "sigmaTMUS*np.sqrt(252)"
      ],
      "metadata": {
        "colab": {
          "base_uri": "https://localhost:8080/"
        },
        "id": "AwdFFn2_dhbh",
        "outputId": "f48ae5f4-fcf9-4d99-bffa-b5173d9bbedf"
      },
      "execution_count": 32,
      "outputs": [
        {
          "output_type": "stream",
          "name": "stdout",
          "text": [
            "\r[*********************100%***********************]  1 of 1 completed\n"
          ]
        },
        {
          "output_type": "execute_result",
          "data": {
            "text/plain": [
              "1.0172105214944231"
            ]
          },
          "metadata": {},
          "execution_count": 32
        }
      ]
    },
    {
      "cell_type": "code",
      "source": [
        "p_nameNVDA = pdr.DataReader(['NVDA'], start, end, interval = '1mo' )['Adj Close'].dropna()\n",
        "r_nameNVDA = np.log(p_nameNVDA/p_nameNVDA.shift(1)).dropna()\n",
        "sigmaNVDA = r_nameNVDA.std()\n",
        "sigmaNVDA*np.sqrt(252)"
      ],
      "metadata": {
        "colab": {
          "base_uri": "https://localhost:8080/"
        },
        "id": "bQ6RMf8pdhSG",
        "outputId": "665a7d6d-7f4b-4257-d1b1-ec6d5acd3739"
      },
      "execution_count": 33,
      "outputs": [
        {
          "output_type": "stream",
          "name": "stdout",
          "text": [
            "\r[*********************100%***********************]  1 of 1 completed\n"
          ]
        },
        {
          "output_type": "execute_result",
          "data": {
            "text/plain": [
              "2.292841932487036"
            ]
          },
          "metadata": {},
          "execution_count": 33
        }
      ]
    },
    {
      "cell_type": "code",
      "source": [
        "p_nameARE = pdr.DataReader(['ARE'], start, end, interval = '1mo' )['Adj Close'].dropna()\n",
        "r_nameARE = np.log(p_nameARE/p_nameARE.shift(1)).dropna()\n",
        "sigmaARE = r_nameARE.std()\n",
        "sigmaARE*np.sqrt(252)"
      ],
      "metadata": {
        "colab": {
          "base_uri": "https://localhost:8080/"
        },
        "id": "sanqzEycdhL_",
        "outputId": "caa97059-5985-4d15-ec83-f43e345f8f0e"
      },
      "execution_count": 34,
      "outputs": [
        {
          "output_type": "stream",
          "name": "stdout",
          "text": [
            "\r[*********************100%***********************]  1 of 1 completed\n"
          ]
        },
        {
          "output_type": "execute_result",
          "data": {
            "text/plain": [
              "1.0627111114156849"
            ]
          },
          "metadata": {},
          "execution_count": 34
        }
      ]
    },
    {
      "cell_type": "code",
      "source": [
        "p_nameGOOGL = pdr.DataReader(['GOOGL'], start, end, interval = '1mo' )['Adj Close'].dropna()\n",
        "r_nameGOOGL = np.log(p_nameGOOGL/p_nameGOOGL.shift(1)).dropna()\n",
        "sigmaGOOGL = r_nameGOOGL.std()\n",
        "sigmaGOOGL*np.sqrt(252)"
      ],
      "metadata": {
        "colab": {
          "base_uri": "https://localhost:8080/"
        },
        "id": "vKeyWGGJdhC7",
        "outputId": "c0db06e5-f810-48ec-be7c-1cc02a30f31b"
      },
      "execution_count": 35,
      "outputs": [
        {
          "output_type": "stream",
          "name": "stdout",
          "text": [
            "\r[*********************100%***********************]  1 of 1 completed\n"
          ]
        },
        {
          "output_type": "execute_result",
          "data": {
            "text/plain": [
              "1.1784419186740083"
            ]
          },
          "metadata": {},
          "execution_count": 35
        }
      ]
    },
    {
      "cell_type": "code",
      "source": [
        "p_nameAMD = pdr.DataReader(['AMD'], start, end, interval = '1mo' )['Adj Close'].dropna()\n",
        "r_nameAMD = np.log(p_nameAMD/p_nameAMD.shift(1)).dropna()\n",
        "sigmaAMD = r_nameAMD.std()\n",
        "sigmaAMD*np.sqrt(252)"
      ],
      "metadata": {
        "colab": {
          "base_uri": "https://localhost:8080/"
        },
        "id": "KOiycsKidwJM",
        "outputId": "dd542814-ec1a-44ac-a215-8f9abf634477"
      },
      "execution_count": 36,
      "outputs": [
        {
          "output_type": "stream",
          "name": "stdout",
          "text": [
            "\r[*********************100%***********************]  1 of 1 completed\n"
          ]
        },
        {
          "output_type": "execute_result",
          "data": {
            "text/plain": [
              "2.718776724629154"
            ]
          },
          "metadata": {},
          "execution_count": 36
        }
      ]
    },
    {
      "cell_type": "markdown",
      "source": [
        "b. Construya una tabla en la que se muestre un ranqueo de los activos de acuerdo con su\n",
        "retorno esperado."
      ],
      "metadata": {
        "id": "oCYg7uwzfTxH"
      }
    },
    {
      "cell_type": "code",
      "source": [
        "retornos10.mean().rank()"
      ],
      "metadata": {
        "colab": {
          "base_uri": "https://localhost:8080/"
        },
        "id": "Bg09yJVXfUZy",
        "outputId": "bed8c5d2-55d6-4bd8-ba60-b1fee1fa5ef7"
      },
      "execution_count": 50,
      "outputs": [
        {
          "output_type": "execute_result",
          "data": {
            "text/plain": [
              "AMD      10.0\n",
              "ARE       3.0\n",
              "GOOGL     6.0\n",
              "GS        4.0\n",
              "INTC      1.0\n",
              "MNST      5.0\n",
              "NVDA      9.0\n",
              "RA        2.0\n",
              "TMUS      8.0\n",
              "V         7.0\n",
              "dtype: float64"
            ]
          },
          "metadata": {},
          "execution_count": 50
        }
      ]
    },
    {
      "cell_type": "markdown",
      "source": [
        "3. Descargue la serie mensual de precios del índice estadounidense Rusell (^RUT) para el periodo\n",
        "Dic-11 a Dic-2022. Con esta información calcule la volatilidad mensual y anualizada usando\n",
        "las siguientes medidas:"
      ],
      "metadata": {
        "id": "YhFIFY3zgceT"
      }
    },
    {
      "cell_type": "code",
      "source": [
        "start = pd.to_datetime(\"2011-10-31\")\n",
        "end = pd.to_datetime(\"2022-12-31\")\n",
        "\n",
        "preciosRUS = pdr.DataReader(['^RUT'], start, end, interval = '1mo')['Adj Close'].dropna()"
      ],
      "metadata": {
        "colab": {
          "base_uri": "https://localhost:8080/"
        },
        "id": "YxT4TRNfguAv",
        "outputId": "b90fd864-80fb-4966-da4d-10ef5bb0e2ec"
      },
      "execution_count": 38,
      "outputs": [
        {
          "output_type": "stream",
          "name": "stdout",
          "text": [
            "\r[*********************100%***********************]  1 of 1 completed\n"
          ]
        }
      ]
    },
    {
      "cell_type": "markdown",
      "source": [
        "a. Desviación estándar"
      ],
      "metadata": {
        "id": "nrOw0m4bgsOO"
      }
    },
    {
      "cell_type": "code",
      "source": [
        "PreciosD = pdr.DataReader(['^RUT'], start, end, interval = '1mo')['Adj Close'].dropna()\n",
        "r_nameD = np.log(PreciosD/PreciosD.shift(1)).dropna()\n",
        "sigmaD = r_nameD.std()\n",
        "sigmaD*np.sqrt(252)\n",
        "#volatilidad anualizada"
      ],
      "metadata": {
        "colab": {
          "base_uri": "https://localhost:8080/"
        },
        "id": "UsrERl_Ggrn0",
        "outputId": "017aea71-b600-478d-d752-d81d6538b54d"
      },
      "execution_count": 39,
      "outputs": [
        {
          "output_type": "stream",
          "name": "stdout",
          "text": [
            "\r[*********************100%***********************]  1 of 1 completed\n"
          ]
        },
        {
          "output_type": "execute_result",
          "data": {
            "text/plain": [
              "0.8657522349807765"
            ]
          },
          "metadata": {},
          "execution_count": 39
        }
      ]
    },
    {
      "cell_type": "code",
      "source": [
        "desvest_roll = r_nameD.rolling(window=252).std()\n",
        "desvest_roll.plot()"
      ],
      "metadata": {
        "colab": {
          "base_uri": "https://localhost:8080/",
          "height": 296
        },
        "id": "IHaNDIquonPJ",
        "outputId": "b5187a6c-f1a3-4b9b-f183-a1fc65d3d1b7"
      },
      "execution_count": 40,
      "outputs": [
        {
          "output_type": "execute_result",
          "data": {
            "text/plain": [
              "<matplotlib.axes._subplots.AxesSubplot at 0x7f5120bafaf0>"
            ]
          },
          "metadata": {},
          "execution_count": 40
        },
        {
          "output_type": "display_data",
          "data": {
            "text/plain": [
              "<Figure size 432x288 with 1 Axes>"
            ],
            "image/png": "[encoded data removed]"
          },
          "metadata": {
            "needs_background": "light"
          }
        }
      ]
    },
    {
      "cell_type": "markdown",
      "source": [
        "b. Parkinson"
      ],
      "metadata": {
        "id": "_RmWcW3fi2LS"
      }
    },
    {
      "cell_type": "code",
      "source": [
        "preciosP = pdr.DataReader(['^RUT'], start, end, interval = '1mo').dropna()"
      ],
      "metadata": {
        "colab": {
          "base_uri": "https://localhost:8080/"
        },
        "id": "dHukuA6rkIRO",
        "outputId": "1f8200c6-c583-4d47-c5a3-95023677c1b6"
      },
      "execution_count": 41,
      "outputs": [
        {
          "output_type": "stream",
          "name": "stdout",
          "text": [
            "\r[*********************100%***********************]  1 of 1 completed\n"
          ]
        }
      ]
    },
    {
      "cell_type": "code",
      "source": [
        "lnHL = np.log(preciosP[\"High\"]/preciosP[\"Low\"]).dropna()\n",
        "sigmaPark_d = ((1/(4*np.log(2)))*lnHL**2)**0.5\n",
        "sigmaPark_d.plot()"
      ],
      "metadata": {
        "colab": {
          "base_uri": "https://localhost:8080/",
          "height": 296
        },
        "id": "b541JI1ui2lc",
        "outputId": "26f6f86f-0a4d-4fe8-e8b7-35626716b200"
      },
      "execution_count": 42,
      "outputs": [
        {
          "output_type": "execute_result",
          "data": {
            "text/plain": [
              "<matplotlib.axes._subplots.AxesSubplot at 0x7f5120b76580>"
            ]
          },
          "metadata": {},
          "execution_count": 42
        },
        {
          "output_type": "display_data",
          "data": {
            "text/plain": [
              "<Figure size 432x288 with 1 Axes>"
            ],
            "image/png": "[encoded data removed]"
          },
          "metadata": {
            "needs_background": "light"
          }
        }
      ]
    },
    {
      "cell_type": "code",
      "source": [
        "# Volatilidad promedio anual\n",
        "(sigmaPark_d.mean())*np.sqrt(252)"
      ],
      "metadata": {
        "colab": {
          "base_uri": "https://localhost:8080/"
        },
        "id": "c129RwqsknGP",
        "outputId": "aec35253-d795-4f9b-ece7-3a9dc7ab6ac5"
      },
      "execution_count": 43,
      "outputs": [
        {
          "output_type": "execute_result",
          "data": {
            "text/plain": [
              "0.8128220594234592"
            ]
          },
          "metadata": {},
          "execution_count": 43
        }
      ]
    },
    {
      "cell_type": "code",
      "source": [
        "# Volatilidad promedio mensual\n",
        "(sigmaPark_d.mean())*np.sqrt(12)"
      ],
      "metadata": {
        "colab": {
          "base_uri": "https://localhost:8080/"
        },
        "id": "GKY64KWekr7O",
        "outputId": "1e805870-8864-49c3-a108-537a0b9dc23f"
      },
      "execution_count": 44,
      "outputs": [
        {
          "output_type": "execute_result",
          "data": {
            "text/plain": [
              "0.17737231494466166"
            ]
          },
          "metadata": {},
          "execution_count": 44
        }
      ]
    },
    {
      "cell_type": "markdown",
      "source": [
        "c. Garman-Klass"
      ],
      "metadata": {
        "id": "PM9OdYWPi2yK"
      }
    },
    {
      "cell_type": "code",
      "source": [
        "preciosGK = pdr.DataReader(['^RUT'], start, end, interval = '1mo').dropna()"
      ],
      "metadata": {
        "colab": {
          "base_uri": "https://localhost:8080/"
        },
        "id": "-y4IsT9wk9hr",
        "outputId": "2db15ba0-37cd-466e-b522-293881b4104e"
      },
      "execution_count": 45,
      "outputs": [
        {
          "output_type": "stream",
          "name": "stdout",
          "text": [
            "\r[*********************100%***********************]  1 of 1 completed\n"
          ]
        }
      ]
    },
    {
      "cell_type": "code",
      "source": [
        "lnHL = np.log(preciosGK[\"High\"]/preciosGK[\"Low\"]).dropna()\n",
        "lnCO = np.log(preciosGK[\"Close\"]/preciosGK[\"Open\"]).dropna()\n",
        "sigmaGK_d = (0.5*lnHL**2-(2*np.log(2)-1)*lnCO**2)**0.5\n",
        "sigmaGK_d.plot()"
      ],
      "metadata": {
        "colab": {
          "base_uri": "https://localhost:8080/",
          "height": 297
        },
        "id": "FQfSDbqai4gV",
        "outputId": "e0adac8f-9754-4930-ba32-05eaf869694d"
      },
      "execution_count": 46,
      "outputs": [
        {
          "output_type": "execute_result",
          "data": {
            "text/plain": [
              "<matplotlib.axes._subplots.AxesSubplot at 0x7f5120aef0a0>"
            ]
          },
          "metadata": {},
          "execution_count": 46
        },
        {
          "output_type": "display_data",
          "data": {
            "text/plain": [
              "<Figure size 432x288 with 1 Axes>"
            ],
            "image/png": "[encoded data removed]"
          },
          "metadata": {
            "needs_background": "light"
          }
        }
      ]
    },
    {
      "cell_type": "code",
      "source": [
        "# Volatilidad promedio anual\n",
        "(sigmaGK_d.mean())*np.sqrt(252)"
      ],
      "metadata": {
        "colab": {
          "base_uri": "https://localhost:8080/"
        },
        "id": "ngF619XPlTvE",
        "outputId": "353383f1-c955-42db-9ba3-a77f2e334317"
      },
      "execution_count": 47,
      "outputs": [
        {
          "output_type": "execute_result",
          "data": {
            "text/plain": [
              "0.8362076247715705"
            ]
          },
          "metadata": {},
          "execution_count": 47
        }
      ]
    },
    {
      "cell_type": "code",
      "source": [
        "# Volatilidad promedio mensual\n",
        "(sigmaGK_d.mean())*np.sqrt(12)"
      ],
      "metadata": {
        "colab": {
          "base_uri": "https://localhost:8080/"
        },
        "id": "WLAqQibplYC3",
        "outputId": "af918621-aa8e-4d36-9a97-ad54c034908f"
      },
      "execution_count": 48,
      "outputs": [
        {
          "output_type": "execute_result",
          "data": {
            "text/plain": [
              "0.18247546367690246"
            ]
          },
          "metadata": {},
          "execution_count": 48
        }
      ]
    }
  ]
}